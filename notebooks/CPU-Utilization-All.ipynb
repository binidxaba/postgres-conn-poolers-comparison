{
 "cells": [
  {
   "cell_type": "markdown",
   "id": "f47aa8d3",
   "metadata": {},
   "source": [
    "# Analyze CPU utilization\n",
    "\n",
    "In this notebook we explore the utilization of CPU and other system resources. As of now, only CPU utilization plots are used.\n"
   ]
  },
  {
   "cell_type": "code",
   "execution_count": 1,
   "id": "6c894af7",
   "metadata": {},
   "outputs": [],
   "source": [
    "import pandas as pd\n",
    "import matplotlib.pyplot as plt"
   ]
  },
  {
   "cell_type": "markdown",
   "id": "e1cb9f2c",
   "metadata": {},
   "source": [
    "These are the files that we read to generate the plots. You should change these if you get new results."
   ]
  },
  {
   "cell_type": "code",
   "execution_count": 2,
   "id": "6e397b01",
   "metadata": {},
   "outputs": [],
   "source": [
    "all_data = [\n",
    "    {\n",
    "    \"label\": \"PgBouncer, clients = 50\",\n",
    "    \"dataframe\" : pd.read_csv('./002-results-detailed-latencies/pgbouncer-1707314911/utilization.csv'),\n",
    "    },\n",
    "    {\n",
    "    \"label\": \"PgCat, clients = 1250\",\n",
    "    \"dataframe\" : pd.read_csv('./002-results-detailed-latencies/pgcat-1707322429/utilization.csv'),\n",
    "    },\n",
    "    {\n",
    "    \"label\": \"Supavisor, clients = 100\",\n",
    "    \"dataframe\" : pd.read_csv('./002-results-detailed-latencies/supavisor-1707327679/utilization.csv'),\n",
    "    },\n",
    "]\n"
   ]
  },
  {
   "cell_type": "markdown",
   "id": "4d732c9c",
   "metadata": {},
   "source": [
    "These are just constants. No need to change them."
   ]
  },
  {
   "cell_type": "code",
   "execution_count": 3,
   "id": "03dc25ba",
   "metadata": {},
   "outputs": [],
   "source": [
    "colors = [\"#412e93\", \"#f9457a\", \"#da38ca\", \"#44d3ec\", \"#e9fc87\",\n",
    "            \"#1f78b4\",  # Blue\n",
    "            \"#33a02c\",  # Green\n",
    "            \"#e31a1c\",  # Red\n",
    "            \"#ff7f00\",  # Orange\n",
    "            \"#6a3d9a\",  # Purple\n",
    "            \"#a6cee3\",  # Light Blue\n",
    "            \"#b2df8a\",  # Light Green\n",
    "            \"#fb9a99\",  # Light Red\n",
    "            \"#fdbf6f\",  # Light Orange\n",
    "            \"#cab2d6\"   # Light Purple\n",
    "        ]\n",
    "figsize = (16,9)"
   ]
  },
  {
   "cell_type": "code",
   "execution_count": 4,
   "id": "581ac2c4",
   "metadata": {},
   "outputs": [
    {
     "data": {
      "text/html": [
       "<div>\n",
       "<style scoped>\n",
       "    .dataframe tbody tr th:only-of-type {\n",
       "        vertical-align: middle;\n",
       "    }\n",
       "\n",
       "    .dataframe tbody tr th {\n",
       "        vertical-align: top;\n",
       "    }\n",
       "\n",
       "    .dataframe thead th {\n",
       "        text-align: right;\n",
       "    }\n",
       "</style>\n",
       "<table border=\"1\" class=\"dataframe\">\n",
       "  <thead>\n",
       "    <tr style=\"text-align: right;\">\n",
       "      <th></th>\n",
       "      <th>PgBouncer, clients = 50</th>\n",
       "      <th>PgCat, clients = 1250</th>\n",
       "      <th>Supavisor, clients = 100</th>\n",
       "    </tr>\n",
       "  </thead>\n",
       "  <tbody>\n",
       "    <tr>\n",
       "      <th>0</th>\n",
       "      <td>0.0</td>\n",
       "      <td>1.4</td>\n",
       "      <td>17.8</td>\n",
       "    </tr>\n",
       "    <tr>\n",
       "      <th>1</th>\n",
       "      <td>0.0</td>\n",
       "      <td>1.3</td>\n",
       "      <td>15.0</td>\n",
       "    </tr>\n",
       "    <tr>\n",
       "      <th>2</th>\n",
       "      <td>0.0</td>\n",
       "      <td>1.2</td>\n",
       "      <td>44.1</td>\n",
       "    </tr>\n",
       "    <tr>\n",
       "      <th>3</th>\n",
       "      <td>20.1</td>\n",
       "      <td>1.1</td>\n",
       "      <td>127.0</td>\n",
       "    </tr>\n",
       "    <tr>\n",
       "      <th>4</th>\n",
       "      <td>36.7</td>\n",
       "      <td>1.0</td>\n",
       "      <td>194.0</td>\n",
       "    </tr>\n",
       "    <tr>\n",
       "      <th>...</th>\n",
       "      <td>...</td>\n",
       "      <td>...</td>\n",
       "      <td>...</td>\n",
       "    </tr>\n",
       "    <tr>\n",
       "      <th>745</th>\n",
       "      <td>NaN</td>\n",
       "      <td>473.0</td>\n",
       "      <td>NaN</td>\n",
       "    </tr>\n",
       "    <tr>\n",
       "      <th>746</th>\n",
       "      <td>NaN</td>\n",
       "      <td>473.0</td>\n",
       "      <td>NaN</td>\n",
       "    </tr>\n",
       "    <tr>\n",
       "      <th>747</th>\n",
       "      <td>NaN</td>\n",
       "      <td>472.0</td>\n",
       "      <td>NaN</td>\n",
       "    </tr>\n",
       "    <tr>\n",
       "      <th>748</th>\n",
       "      <td>NaN</td>\n",
       "      <td>471.0</td>\n",
       "      <td>NaN</td>\n",
       "    </tr>\n",
       "    <tr>\n",
       "      <th>749</th>\n",
       "      <td>NaN</td>\n",
       "      <td>471.0</td>\n",
       "      <td>NaN</td>\n",
       "    </tr>\n",
       "  </tbody>\n",
       "</table>\n",
       "<p>750 rows × 3 columns</p>\n",
       "</div>"
      ],
      "text/plain": [
       "     PgBouncer, clients = 50  PgCat, clients = 1250  Supavisor, clients = 100\n",
       "0                        0.0                    1.4                      17.8\n",
       "1                        0.0                    1.3                      15.0\n",
       "2                        0.0                    1.2                      44.1\n",
       "3                       20.1                    1.1                     127.0\n",
       "4                       36.7                    1.0                     194.0\n",
       "..                       ...                    ...                       ...\n",
       "745                      NaN                  473.0                       NaN\n",
       "746                      NaN                  473.0                       NaN\n",
       "747                      NaN                  472.0                       NaN\n",
       "748                      NaN                  471.0                       NaN\n",
       "749                      NaN                  471.0                       NaN\n",
       "\n",
       "[750 rows x 3 columns]"
      ]
     },
     "execution_count": 4,
     "metadata": {},
     "output_type": "execute_result"
    }
   ],
   "source": [
    "d = {\n",
    "        all_data[0]['label'] : all_data[0]['dataframe']['cpu'][0:720],\n",
    "        all_data[1]['label'] : all_data[1]['dataframe']['cpu'][0:750],\n",
    "        all_data[2]['label'] : all_data[2]['dataframe']['cpu'][0:720]\n",
    "    }\n",
    "df = pd.DataFrame(d)\n",
    "df"
   ]
  },
  {
   "cell_type": "markdown",
   "id": "4c4b39f7",
   "metadata": {},
   "source": [
    "## CPU Utilization plots"
   ]
  },
  {
   "cell_type": "code",
   "execution_count": 5,
   "id": "9243eab6",
   "metadata": {},
   "outputs": [
    {
     "data": {
      "text/plain": [
       "Text(0.5, 0, 'Sample')"
      ]
     },
     "execution_count": 5,
     "metadata": {},
     "output_type": "execute_result"
    },
    {
     "data": {
      "image/png": "[encoded data removed]",
      "text/plain": [
       "<Figure size 1152x648 with 1 Axes>"
      ]
     },
     "metadata": {
      "needs_background": "light"
     },
     "output_type": "display_data"
    }
   ],
   "source": [
    "title = f\"CPU Utilization\"\n",
    "max_y = 800\n",
    "ax = df.plot.line( figsize=figsize, ylim=(0,max_y),title=title, color=colors)\n",
    "ax.set_ylabel('Percentage (%)')\n",
    "ax.set_xlabel('Sample')"
   ]
  },
  {
   "cell_type": "code",
   "execution_count": null,
   "id": "28ee08e0",
   "metadata": {},
   "outputs": [],
   "source": []
  }
 ],
 "metadata": {
  "kernelspec": {
   "display_name": "Python 3 (ipykernel)",
   "language": "python",
   "name": "python3"
  },
  "language_info": {
   "codemirror_mode": {
    "name": "ipython",
    "version": 3
   },
   "file_extension": ".py",
   "mimetype": "text/x-python",
   "name": "python",
   "nbconvert_exporter": "python",
   "pygments_lexer": "ipython3",
   "version": "3.10.12"
  }
 },
 "nbformat": 4,
 "nbformat_minor": 5
}
